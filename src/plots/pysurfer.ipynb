{
 "cells": [
  {
   "cell_type": "code",
   "execution_count": 3,
   "metadata": {},
   "outputs": [
    {
     "name": "stdout",
     "output_type": "stream",
     "text": [
      "Automatically created module for IPython interactive environment\n"
     ]
    }
   ],
   "source": [
    "import os\n",
    "from surfer import Brain\n",
    "\n",
    "print(__doc__)"
   ]
  },
  {
   "cell_type": "code",
   "execution_count": 6,
   "metadata": {},
   "outputs": [
    {
     "ename": "ValueError",
     "evalue": "The subjects directory has to be specified using the subjects_dir parameter or the SUBJECTS_DIR environment variable.",
     "output_type": "error",
     "traceback": [
      "\u001b[0;31m---------------------------------------------------------------------------\u001b[0m",
      "\u001b[0;31mValueError\u001b[0m                                Traceback (most recent call last)",
      "Cell \u001b[0;32mIn[6], line 4\u001b[0m\n\u001b[1;32m      1\u001b[0m base \u001b[38;5;241m=\u001b[39m \u001b[38;5;124m'\u001b[39m\u001b[38;5;124m../../result_ibf_2full+mirror_TT/nii_abagen\u001b[39m\u001b[38;5;124m'\u001b[39m\n\u001b[1;32m      2\u001b[0m file_list \u001b[38;5;241m=\u001b[39m os\u001b[38;5;241m.\u001b[39mlistdir(base)\n\u001b[0;32m----> 4\u001b[0m brain \u001b[38;5;241m=\u001b[39m Brain(\u001b[38;5;124m\"\u001b[39m\u001b[38;5;124mfsaverage\u001b[39m\u001b[38;5;124m\"\u001b[39m, \u001b[38;5;124m\"\u001b[39m\u001b[38;5;124mlh\u001b[39m\u001b[38;5;124m\"\u001b[39m, \u001b[38;5;124m\"\u001b[39m\u001b[38;5;124minflated\u001b[39m\u001b[38;5;124m\"\u001b[39m)\n\u001b[1;32m      5\u001b[0m overlay_file \u001b[38;5;241m=\u001b[39m os\u001b[38;5;241m.\u001b[39mpath\u001b[38;5;241m.\u001b[39mjoin(base, file_list[\u001b[38;5;241m0\u001b[39m])\n\u001b[1;32m      6\u001b[0m brain\u001b[38;5;241m.\u001b[39madd_overlay(overlay_file)\n",
      "File \u001b[0;32m/opt/homebrew/anaconda3/lib/python3.11/site-packages/surfer/viz.py:419\u001b[0m, in \u001b[0;36mBrain.__init__\u001b[0;34m(self, subject_id, hemi, surf, title, cortex, alpha, size, background, foreground, figure, subjects_dir, views, offset, show_toolbar, offscreen, interaction, units, antialias)\u001b[0m\n\u001b[1;32m    416\u001b[0m     \u001b[38;5;28;01mraise\u001b[39;00m \u001b[38;5;167;01mValueError\u001b[39;00m(\u001b[38;5;124m'\u001b[39m\u001b[38;5;124mhemi must be one of [\u001b[39m\u001b[38;5;132;01m%s\u001b[39;00m\u001b[38;5;124m], not \u001b[39m\u001b[38;5;132;01m%s\u001b[39;00m\u001b[38;5;124m'\u001b[39m\n\u001b[1;32m    417\u001b[0m                      \u001b[38;5;241m%\u001b[39m (\u001b[38;5;124m'\u001b[39m\u001b[38;5;124m, \u001b[39m\u001b[38;5;124m'\u001b[39m\u001b[38;5;241m.\u001b[39mjoin(col_dict\u001b[38;5;241m.\u001b[39mkeys()), hemi))\n\u001b[1;32m    418\u001b[0m \u001b[38;5;66;03m# Get the subjects directory from parameter or env. var\u001b[39;00m\n\u001b[0;32m--> 419\u001b[0m subjects_dir \u001b[38;5;241m=\u001b[39m _get_subjects_dir(subjects_dir\u001b[38;5;241m=\u001b[39msubjects_dir)\n\u001b[1;32m    421\u001b[0m \u001b[38;5;28mself\u001b[39m\u001b[38;5;241m.\u001b[39m_hemi \u001b[38;5;241m=\u001b[39m hemi\n\u001b[1;32m    422\u001b[0m \u001b[38;5;28;01mif\u001b[39;00m title \u001b[38;5;129;01mis\u001b[39;00m \u001b[38;5;28;01mNone\u001b[39;00m:\n",
      "File \u001b[0;32m/opt/homebrew/anaconda3/lib/python3.11/site-packages/surfer/utils.py:726\u001b[0m, in \u001b[0;36m_get_subjects_dir\u001b[0;34m(subjects_dir, raise_error)\u001b[0m\n\u001b[1;32m    724\u001b[0m     subjects_dir \u001b[38;5;241m=\u001b[39m os\u001b[38;5;241m.\u001b[39menviron\u001b[38;5;241m.\u001b[39mget(\u001b[38;5;124m\"\u001b[39m\u001b[38;5;124mSUBJECTS_DIR\u001b[39m\u001b[38;5;124m\"\u001b[39m, \u001b[38;5;124m\"\u001b[39m\u001b[38;5;124m\"\u001b[39m)\n\u001b[1;32m    725\u001b[0m     \u001b[38;5;28;01mif\u001b[39;00m \u001b[38;5;129;01mnot\u001b[39;00m subjects_dir \u001b[38;5;129;01mand\u001b[39;00m raise_error:\n\u001b[0;32m--> 726\u001b[0m         \u001b[38;5;28;01mraise\u001b[39;00m \u001b[38;5;167;01mValueError\u001b[39;00m(\u001b[38;5;124m'\u001b[39m\u001b[38;5;124mThe subjects directory has to be specified \u001b[39m\u001b[38;5;124m'\u001b[39m\n\u001b[1;32m    727\u001b[0m                          \u001b[38;5;124m'\u001b[39m\u001b[38;5;124musing the subjects_dir parameter or the \u001b[39m\u001b[38;5;124m'\u001b[39m\n\u001b[1;32m    728\u001b[0m                          \u001b[38;5;124m'\u001b[39m\u001b[38;5;124mSUBJECTS_DIR environment variable.\u001b[39m\u001b[38;5;124m'\u001b[39m)\n\u001b[1;32m    730\u001b[0m \u001b[38;5;28;01mif\u001b[39;00m raise_error \u001b[38;5;129;01mand\u001b[39;00m \u001b[38;5;129;01mnot\u001b[39;00m os\u001b[38;5;241m.\u001b[39mpath\u001b[38;5;241m.\u001b[39mexists(subjects_dir):\n\u001b[1;32m    731\u001b[0m     \u001b[38;5;28;01mraise\u001b[39;00m \u001b[38;5;167;01mValueError\u001b[39;00m(\u001b[38;5;124m'\u001b[39m\u001b[38;5;124mThe subjects directory \u001b[39m\u001b[38;5;132;01m%s\u001b[39;00m\u001b[38;5;124m does not exist.\u001b[39m\u001b[38;5;124m'\u001b[39m\n\u001b[1;32m    732\u001b[0m                      \u001b[38;5;241m%\u001b[39m subjects_dir)\n",
      "\u001b[0;31mValueError\u001b[0m: The subjects directory has to be specified using the subjects_dir parameter or the SUBJECTS_DIR environment variable."
     ]
    },
    {
     "ename": "",
     "evalue": "",
     "output_type": "error",
     "traceback": [
      "\u001b[1;31mThe Kernel crashed while executing code in the the current cell or a previous cell. Please review the code in the cell(s) to identify a possible cause of the failure. Click <a href='https://aka.ms/vscodeJupyterKernelCrash'>here</a> for more info. View Jupyter <a href='command:jupyter.viewOutput'>log</a> for further details."
     ]
    }
   ],
   "source": [
    "base = '../../result_ibf_2full+mirror_TT/nii_abagen'\n",
    "file_list = os.listdir(base)\n",
    "\n",
    "brain = Brain(\"fsaverage\", \"lh\", \"inflated\")\n",
    "overlay_file = os.path.join(base, file_list[0])\n",
    "brain.add_overlay(overlay_file)\n",
    "\n",
    "# \"\"\"\n",
    "# You can then turn the overlay off.\n",
    "# \"\"\"\n",
    "# brain.overlays[\"sig\"].remove()\n",
    "\n",
    "# \"\"\"\n",
    "# Now add the overlay again, but this time with set threshold and showing only\n",
    "# the positive activations.\n",
    "# \"\"\"\n",
    "# brain.add_overlay(overlay_file, min=5, max=20, sign=\"pos\")"
   ]
  }
 ],
 "metadata": {
  "kernelspec": {
   "display_name": "base",
   "language": "python",
   "name": "python3"
  },
  "language_info": {
   "codemirror_mode": {
    "name": "ipython",
    "version": 3
   },
   "file_extension": ".py",
   "mimetype": "text/x-python",
   "name": "python",
   "nbconvert_exporter": "python",
   "pygments_lexer": "ipython3",
   "version": "3.11.3"
  }
 },
 "nbformat": 4,
 "nbformat_minor": 2
}

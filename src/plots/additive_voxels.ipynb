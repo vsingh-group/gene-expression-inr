{
 "cells": [
  {
   "cell_type": "code",
   "execution_count": 1,
   "metadata": {},
   "outputs": [],
   "source": [
    "from ipyniivue import AnyNiivue, SliceType\n",
    "import pandas as pd\n",
    "from IPython.display import display, clear_output\n",
    "import time\n",
    "\n",
    "# volumes = [\n",
    "#     {\n",
    "#         \"path\": f\"../../data/atlas/MNI152_T1_1mm_brain_white_mask_int.nii.gz\",\n",
    "#         \"colormap\": \"grey\",\n",
    "#     },\n",
    "# ]\n",
    "# nv = AnyNiivue(\n",
    "#     back_color=(1, 1, 1, 1),\n",
    "#     show_3D_crosshair=True,\n",
    "#     is_colorbar=True,\n",
    "# )\n",
    "# nv.load_volumes(volumes)\n",
    "# display(nv)"
   ]
  },
  {
   "cell_type": "code",
   "execution_count": 7,
   "metadata": {},
   "outputs": [
    {
     "data": {
      "application/vnd.jupyter.widget-view+json": {
       "model_id": "198d0c2bb125413e9a27304d890ae35f",
       "version_major": 2,
       "version_minor": 1
      },
      "text/plain": [
       "AnyNiivue()"
      ]
     },
     "metadata": {},
     "output_type": "display_data"
    },
    {
     "ename": "KeyboardInterrupt",
     "evalue": "",
     "output_type": "error",
     "traceback": [
      "\u001b[0;31m---------------------------------------------------------------------------\u001b[0m",
      "\u001b[0;31mKeyboardInterrupt\u001b[0m                         Traceback (most recent call last)",
      "Cell \u001b[0;32mIn[7], line 48\u001b[0m\n\u001b[1;32m     46\u001b[0m clear_output(wait\u001b[38;5;241m=\u001b[39m\u001b[38;5;28;01mTrue\u001b[39;00m)\n\u001b[1;32m     47\u001b[0m display(nv)\n\u001b[0;32m---> 48\u001b[0m \u001b[43mtime\u001b[49m\u001b[38;5;241;43m.\u001b[39;49m\u001b[43msleep\u001b[49m\u001b[43m(\u001b[49m\u001b[38;5;241;43m4\u001b[39;49m\u001b[43m)\u001b[49m\n",
      "\u001b[0;31mKeyboardInterrupt\u001b[0m: "
     ]
    }
   ],
   "source": [
    "matter = \"83_new\"\n",
    "donor = \"9861\"\n",
    "full_records = True\n",
    "abagen = True\n",
    "avg = True\n",
    "start = 0\n",
    "end = 8\n",
    "df = pd.read_csv(f\"../../data/abagendata/train_{matter}/se_{donor}.csv\")\n",
    "df.sort_values('gene_symbol')\n",
    "# df.head(8)['gene_symbol'].to_list()\n",
    "\n",
    "for i, row in df.iterrows():\n",
    "    if i < start:\n",
    "        continue\n",
    "    if i >= end:\n",
    "        break\n",
    "    id = row['gene_symbol']\n",
    "\n",
    "    if full_records:\n",
    "        path = f\"{id}_{matter}_inrs\"\n",
    "    else:\n",
    "        path = f\"{id}_{matter}_inr\"\n",
    "        \n",
    "    if avg:\n",
    "        path = f\"{path}_avg\"\n",
    "        \n",
    "    if abagen:\n",
    "        path = f\"{id}_{matter}_abagen\"\n",
    "\n",
    "    print(path)\n",
    "\n",
    "    volumes = [\n",
    "        {\n",
    "            # \"path\": f\"../../result_ibf_2full+mirror_TT/nii_{donor}_{matter}/{path}.nii.gz\",\n",
    "            \"path\": f\"../../result_ibf_2full+mirror_TT/nii_abagen/{path}.nii.gz\",\n",
    "            \"colormap\": \"copper2\",\n",
    "        },\n",
    "    ]\n",
    "    nv = AnyNiivue(\n",
    "        back_color=(1, 1, 1, 1),\n",
    "        show_3D_crosshair=True,\n",
    "        is_colorbar=True,\n",
    "    )\n",
    "    nv.load_volumes(volumes)\n",
    "\n",
    "    clear_output(wait=True)\n",
    "    display(nv)\n",
    "    time.sleep(4)\n"
   ]
  },
  {
   "cell_type": "code",
   "execution_count": 9,
   "metadata": {},
   "outputs": [
    {
     "data": {
      "text/plain": [
       "['PLD3',\n",
       " 'IL34',\n",
       " 'HS3ST2',\n",
       " 'DOC2A',\n",
       " 'DNAJB6',\n",
       " 'TMEM41A',\n",
       " 'DNAJA1',\n",
       " 'HSP90AB1',\n",
       " 'TOMM40',\n",
       " 'SORL1']"
      ]
     },
     "execution_count": 9,
     "metadata": {},
     "output_type": "execute_result"
    }
   ],
   "source": [
    "df.head(8)['gene_symbol'].to_list()"
   ]
  },
  {
   "cell_type": "code",
   "execution_count": null,
   "metadata": {},
   "outputs": [
    {
     "name": "stdout",
     "output_type": "stream",
     "text": [
      "Renamed ../../results/screenshots/Screenshot 2024-04-29 at 2.39.38 PM.png -> ../../results/screenshots_res/0_PRKD3_246_inrs_avg.png\n",
      "Renamed ../../results/screenshots/Screenshot 2024-04-29 at 2.39.42 PM.png -> ../../results/screenshots_res/1_PICALM_246_inrs_avg.png\n",
      "Renamed ../../results/screenshots/Screenshot 2024-04-29 at 2.39.45 PM.png -> ../../results/screenshots_res/2_DNAJB4_246_inrs_avg.png\n",
      "Renamed ../../results/screenshots/Screenshot 2024-04-29 at 2.39.49 PM.png -> ../../results/screenshots_res/3_HBP1_246_inrs_avg.png\n",
      "Renamed ../../results/screenshots/Screenshot 2024-04-29 at 2.39.53 PM.png -> ../../results/screenshots_res/4_FBXL7_246_inrs_avg.png\n",
      "Renamed ../../results/screenshots/Screenshot 2024-04-29 at 2.39.58 PM.png -> ../../results/screenshots_res/5_SNX1_246_inrs_avg.png\n",
      "Renamed ../../results/screenshots/Screenshot 2024-04-29 at 2.40.01 PM.png -> ../../results/screenshots_res/6_FERMT2_246_inrs_avg.png\n",
      "Renamed ../../results/screenshots/Screenshot 2024-04-29 at 2.40.05 PM.png -> ../../results/screenshots_res/7_REST_246_inrs_avg.png\n",
      "Renamed ../../results/screenshots/Screenshot 2024-04-29 at 2.40.09 PM.png -> ../../results/screenshots_res/8_USP6NL_246_inrs_avg.png\n",
      "Renamed ../../results/screenshots/Screenshot 2024-04-29 at 2.40.13 PM.png -> ../../results/screenshots_res/9_APH1B_246_inrs_avg.png\n",
      "Renamed ../../results/screenshots/Screenshot 2024-04-29 at 2.40.18 PM.png -> ../../results/screenshots_res/10_NEAT1_246_inrs_avg.png\n",
      "Renamed ../../results/screenshots/Screenshot 2024-04-29 at 2.40.21 PM.png -> ../../results/screenshots_res/11_MINDY2_246_inrs_avg.png\n",
      "Renamed ../../results/screenshots/Screenshot 2024-04-29 at 2.40.26 PM.png -> ../../results/screenshots_res/12_APP_246_inrs_avg.png\n",
      "Renamed ../../results/screenshots/Screenshot 2024-04-29 at 2.40.29 PM.png -> ../../results/screenshots_res/13_HSP90AB1_246_inrs_avg.png\n",
      "Renamed ../../results/screenshots/Screenshot 2024-04-29 at 2.40.34 PM.png -> ../../results/screenshots_res/14_RAB10_246_inrs_avg.png\n",
      "Renamed ../../results/screenshots/Screenshot 2024-04-29 at 2.40.38 PM.png -> ../../results/screenshots_res/15_HS3ST5_246_inrs_avg.png\n",
      "Renamed ../../results/screenshots/Screenshot 2024-04-29 at 2.40.42 PM.png -> ../../results/screenshots_res/16_SPP1_246_inrs_avg.png\n",
      "Renamed ../../results/screenshots/Screenshot 2024-04-29 at 2.40.46 PM.png -> ../../results/screenshots_res/17_ANK3_246_inrs_avg.png\n",
      "Renamed ../../results/screenshots/Screenshot 2024-04-29 at 2.40.50 PM.png -> ../../results/screenshots_res/18_SREBF1_246_inrs_avg.png\n",
      "Renamed ../../results/screenshots/Screenshot 2024-04-29 at 2.40.54 PM.png -> ../../results/screenshots_res/19_ZBTB7A_246_inrs_avg.png\n",
      "Renamed ../../results/screenshots/Screenshot 2024-04-29 at 2.40.58 PM.png -> ../../results/screenshots_res/20_SLC44A1_246_inrs_avg.png\n",
      "Renamed ../../results/screenshots/Screenshot 2024-04-29 at 2.41.02 PM.png -> ../../results/screenshots_res/21_FOXF1_246_inrs_avg.png\n",
      "Renamed ../../results/screenshots/Screenshot 2024-04-29 at 2.41.06 PM.png -> ../../results/screenshots_res/22_PLCG2_246_inrs_avg.png\n",
      "Renamed ../../results/screenshots/Screenshot 2024-04-29 at 2.41.10 PM.png -> ../../results/screenshots_res/23_ADAMTS1_246_inrs_avg.png\n",
      "Renamed ../../results/screenshots/Screenshot 2024-04-29 at 2.41.14 PM.png -> ../../results/screenshots_res/24_TPCN1_246_inrs_avg.png\n",
      "Renamed ../../results/screenshots/Screenshot 2024-04-29 at 2.41.18 PM.png -> ../../results/screenshots_res/25_ABCA1_246_inrs_avg.png\n",
      "Renamed ../../results/screenshots/Screenshot 2024-04-29 at 2.41.22 PM.png -> ../../results/screenshots_res/26_HSP90AA1_246_inrs_avg.png\n",
      "Renamed ../../results/screenshots/Screenshot 2024-04-29 at 2.41.26 PM.png -> ../../results/screenshots_res/27_INPP5D_246_inrs_avg.png\n",
      "Renamed ../../results/screenshots/Screenshot 2024-04-29 at 2.41.30 PM.png -> ../../results/screenshots_res/28_GRIN2B_246_inrs_avg.png\n",
      "Renamed ../../results/screenshots/Screenshot 2024-04-29 at 2.41.34 PM.png -> ../../results/screenshots_res/29_LRIG1_246_inrs_avg.png\n",
      "Renamed ../../results/screenshots/Screenshot 2024-04-29 at 2.41.38 PM.png -> ../../results/screenshots_res/30_APOE_246_inrs_avg.png\n",
      "Renamed ../../results/screenshots/Screenshot 2024-04-29 at 2.41.42 PM.png -> ../../results/screenshots_res/31_ZCWPW1_246_inrs_avg.png\n",
      "Renamed ../../results/screenshots/Screenshot 2024-04-29 at 2.41.46 PM.png -> ../../results/screenshots_res/32_TNFRSF1A_246_inrs_avg.png\n",
      "Renamed ../../results/screenshots/Screenshot 2024-04-29 at 2.41.50 PM.png -> ../../results/screenshots_res/33_CASP7_246_inrs_avg.png\n",
      "Renamed ../../results/screenshots/Screenshot 2024-04-29 at 2.41.54 PM.png -> ../../results/screenshots_res/34_TREM2_246_inrs_avg.png\n",
      "Renamed ../../results/screenshots/Screenshot 2024-04-29 at 2.41.58 PM.png -> ../../results/screenshots_res/35_CREB3L4_246_inrs_avg.png\n",
      "Renamed ../../results/screenshots/Screenshot 2024-04-29 at 2.42.02 PM.png -> ../../results/screenshots_res/36_CX3CR1_246_inrs_avg.png\n",
      "Renamed ../../results/screenshots/Screenshot 2024-04-29 at 2.42.06 PM.png -> ../../results/screenshots_res/37_TYROBP_246_inrs_avg.png\n",
      "Renamed ../../results/screenshots/Screenshot 2024-04-29 at 2.42.10 PM.png -> ../../results/screenshots_res/38_CD59_246_inrs_avg.png\n",
      "Renamed ../../results/screenshots/Screenshot 2024-04-29 at 2.42.15 PM.png -> ../../results/screenshots_res/39_GRID2_246_inrs_avg.png\n",
      "Renamed ../../results/screenshots/Screenshot 2024-04-29 at 2.42.19 PM.png -> ../../results/screenshots_res/40_DDIT4_246_inrs_avg.png\n",
      "Renamed ../../results/screenshots/Screenshot 2024-04-29 at 2.42.23 PM.png -> ../../results/screenshots_res/41_ZC3H10_246_inrs_avg.png\n",
      "Renamed ../../results/screenshots/Screenshot 2024-04-29 at 2.42.27 PM.png -> ../../results/screenshots_res/42_BACE1_246_inrs_avg.png\n",
      "Renamed ../../results/screenshots/Screenshot 2024-04-29 at 2.42.31 PM.png -> ../../results/screenshots_res/43_CD33_246_inrs_avg.png\n",
      "Renamed ../../results/screenshots/Screenshot 2024-04-29 at 2.42.35 PM.png -> ../../results/screenshots_res/44_EPDR1_246_inrs_avg.png\n",
      "Renamed ../../results/screenshots/Screenshot 2024-04-29 at 2.42.39 PM.png -> ../../results/screenshots_res/45_PSEN2_246_inrs_avg.png\n",
      "Renamed ../../results/screenshots/Screenshot 2024-04-29 at 2.42.43 PM.png -> ../../results/screenshots_res/46_BIN1_246_inrs_avg.png\n",
      "Renamed ../../results/screenshots/Screenshot 2024-04-29 at 2.42.47 PM.png -> ../../results/screenshots_res/47_ADAM17_246_inrs_avg.png\n",
      "Renamed ../../results/screenshots/Screenshot 2024-04-29 at 2.42.51 PM.png -> ../../results/screenshots_res/48_SHARPIN_246_inrs_avg.png\n",
      "Renamed ../../results/screenshots/Screenshot 2024-04-29 at 2.42.55 PM.png -> ../../results/screenshots_res/49_TOMM40_246_inrs_avg.png\n",
      "Renamed ../../results/screenshots/Screenshot 2024-04-29 at 2.42.59 PM.png -> ../../results/screenshots_res/50_WDR81_246_inrs_avg.png\n",
      "Renamed ../../results/screenshots/Screenshot 2024-04-29 at 2.43.03 PM.png -> ../../results/screenshots_res/51_IL1B_246_inrs_avg.png\n",
      "Renamed ../../results/screenshots/Screenshot 2024-04-29 at 2.43.07 PM.png -> ../../results/screenshots_res/52_TNIP1_246_inrs_avg.png\n",
      "Renamed ../../results/screenshots/Screenshot 2024-04-29 at 2.43.11 PM.png -> ../../results/screenshots_res/53_SPI1_246_inrs_avg.png\n",
      "Renamed ../../results/screenshots/Screenshot 2024-04-29 at 2.43.15 PM.png -> ../../results/screenshots_res/54_ABCA7_246_inrs_avg.png\n",
      "Renamed ../../results/screenshots/Screenshot 2024-04-29 at 2.43.19 PM.png -> ../../results/screenshots_res/55_SERTAD1_246_inrs_avg.png\n",
      "Renamed ../../results/screenshots/Screenshot 2024-04-29 at 2.43.23 PM.png -> ../../results/screenshots_res/56_NYAP1_246_inrs_avg.png\n",
      "Renamed ../../results/screenshots/Screenshot 2024-04-29 at 2.43.27 PM.png -> ../../results/screenshots_res/57_CLU_246_inrs_avg.png\n",
      "Renamed ../../results/screenshots/Screenshot 2024-04-29 at 2.43.31 PM.png -> ../../results/screenshots_res/58_TMEM41A_246_inrs_avg.png\n",
      "Renamed ../../results/screenshots/Screenshot 2024-04-29 at 2.43.35 PM.png -> ../../results/screenshots_res/59_SOD1_246_inrs_avg.png\n",
      "Renamed ../../results/screenshots/Screenshot 2024-04-29 at 2.43.39 PM.png -> ../../results/screenshots_res/60_PILRA_246_inrs_avg.png\n",
      "Renamed ../../results/screenshots/Screenshot 2024-04-29 at 2.43.44 PM.png -> ../../results/screenshots_res/61_COX7C_246_inrs_avg.png\n",
      "Renamed ../../results/screenshots/Screenshot 2024-04-29 at 2.43.48 PM.png -> ../../results/screenshots_res/62_SPDYE3_246_inrs_avg.png\n",
      "Renamed ../../results/screenshots/Screenshot 2024-04-29 at 2.43.51 PM.png -> ../../results/screenshots_res/63_SORT1_246_inrs_avg.png\n",
      "Renamed ../../results/screenshots/Screenshot 2024-04-29 at 2.43.55 PM.png -> ../../results/screenshots_res/64_ATP8B1_246_inrs_avg.png\n",
      "Renamed ../../results/screenshots/Screenshot 2024-04-29 at 2.44.00 PM.png -> ../../results/screenshots_res/65_BDNF_246_inrs_avg.png\n",
      "Renamed ../../results/screenshots/Screenshot 2024-04-29 at 2.44.04 PM.png -> ../../results/screenshots_res/66_IDUA_246_inrs_avg.png\n",
      "Renamed ../../results/screenshots/Screenshot 2024-04-29 at 2.44.09 PM.png -> ../../results/screenshots_res/67_BHLHE40_246_inrs_avg.png\n",
      "Renamed ../../results/screenshots/Screenshot 2024-04-29 at 2.44.11 PM.png -> ../../results/screenshots_res/68_WDR12_246_inrs_avg.png\n",
      "Renamed ../../results/screenshots/Screenshot 2024-04-29 at 2.44.16 PM.png -> ../../results/screenshots_res/69_HSPA1L_246_inrs_avg.png\n",
      "Renamed ../../results/screenshots/Screenshot 2024-04-29 at 2.44.19 PM.png -> ../../results/screenshots_res/70_CEBPB_246_inrs_avg.png\n",
      "Renamed ../../results/screenshots/Screenshot 2024-04-29 at 2.44.24 PM.png -> ../../results/screenshots_res/71_EED_246_inrs_avg.png\n",
      "Renamed ../../results/screenshots/Screenshot 2024-04-29 at 2.44.28 PM.png -> ../../results/screenshots_res/72_BAG2_246_inrs_avg.png\n",
      "Renamed ../../results/screenshots/Screenshot 2024-04-29 at 2.44.32 PM.png -> ../../results/screenshots_res/73_PVR_246_inrs_avg.png\n",
      "Renamed ../../results/screenshots/Screenshot 2024-04-29 at 2.44.36 PM.png -> ../../results/screenshots_res/74_PER1_246_inrs_avg.png\n",
      "Renamed ../../results/screenshots/Screenshot 2024-04-29 at 2.44.40 PM.png -> ../../results/screenshots_res/75_HSPH1_246_inrs_avg.png\n",
      "Renamed ../../results/screenshots/Screenshot 2024-04-29 at 2.44.44 PM.png -> ../../results/screenshots_res/76_PTK2B_246_inrs_avg.png\n",
      "Renamed ../../results/screenshots/Screenshot 2024-04-29 at 2.44.48 PM.png -> ../../results/screenshots_res/77_IL34_246_inrs_avg.png\n",
      "Renamed ../../results/screenshots/Screenshot 2024-04-29 at 2.44.52 PM.png -> ../../results/screenshots_res/78_TSPAN14_246_inrs_avg.png\n",
      "Renamed ../../results/screenshots/Screenshot 2024-04-29 at 2.44.56 PM.png -> ../../results/screenshots_res/79_NCK2_246_inrs_avg.png\n",
      "Renamed ../../results/screenshots/Screenshot 2024-04-29 at 2.45.00 PM.png -> ../../results/screenshots_res/80_JAZF1_246_inrs_avg.png\n",
      "Renamed ../../results/screenshots/Screenshot 2024-04-29 at 2.45.04 PM.png -> ../../results/screenshots_res/81_ZNF184_246_inrs_avg.png\n",
      "Renamed ../../results/screenshots/Screenshot 2024-04-29 at 2.45.08 PM.png -> ../../results/screenshots_res/82_ZBTB11_246_inrs_avg.png\n",
      "Renamed ../../results/screenshots/Screenshot 2024-04-29 at 2.45.12 PM.png -> ../../results/screenshots_res/83_SORL1_246_inrs_avg.png\n",
      "Renamed ../../results/screenshots/Screenshot 2024-04-29 at 2.45.16 PM.png -> ../../results/screenshots_res/84_PLD3_246_inrs_avg.png\n",
      "Renamed ../../results/screenshots/Screenshot 2024-04-29 at 2.45.20 PM.png -> ../../results/screenshots_res/85_DNAJB6_246_inrs_avg.png\n",
      "Renamed ../../results/screenshots/Screenshot 2024-04-29 at 2.45.24 PM.png -> ../../results/screenshots_res/86_SIRPA_246_inrs_avg.png\n",
      "Renamed ../../results/screenshots/Screenshot 2024-04-29 at 2.45.28 PM.png -> ../../results/screenshots_res/87_PRNP_246_inrs_avg.png\n",
      "Renamed ../../results/screenshots/Screenshot 2024-04-29 at 2.45.32 PM.png -> ../../results/screenshots_res/88_EGR1_246_inrs_avg.png\n",
      "Renamed ../../results/screenshots/Screenshot 2024-04-29 at 2.45.37 PM.png -> ../../results/screenshots_res/89_ANKH_246_inrs_avg.png\n",
      "Renamed ../../results/screenshots/Screenshot 2024-04-29 at 2.45.40 PM.png -> ../../results/screenshots_res/90_RORB_246_inrs_avg.png\n",
      "Renamed ../../results/screenshots/Screenshot 2024-04-29 at 2.45.44 PM.png -> ../../results/screenshots_res/91_MAPT_246_inrs_avg.png\n",
      "Renamed ../../results/screenshots/Screenshot 2024-04-29 at 2.45.49 PM.png -> ../../results/screenshots_res/92_DNAJA1_246_inrs_avg.png\n",
      "Renamed ../../results/screenshots/Screenshot 2024-04-29 at 2.45.53 PM.png -> ../../results/screenshots_res/93_MAPK14_246_inrs_avg.png\n",
      "Renamed ../../results/screenshots/Screenshot 2024-04-29 at 2.45.57 PM.png -> ../../results/screenshots_res/94_DOC2A_246_inrs_avg.png\n",
      "Renamed ../../results/screenshots/Screenshot 2024-04-29 at 2.46.01 PM.png -> ../../results/screenshots_res/95_HSPA8_246_inrs_avg.png\n",
      "Renamed ../../results/screenshots/Screenshot 2024-04-29 at 2.46.05 PM.png -> ../../results/screenshots_res/96_DLGAP2_246_inrs_avg.png\n",
      "Renamed ../../results/screenshots/Screenshot 2024-04-29 at 2.46.09 PM.png -> ../../results/screenshots_res/97_TSPOAP1_246_inrs_avg.png\n",
      "Renamed ../../results/screenshots/Screenshot 2024-04-29 at 2.46.13 PM.png -> ../../results/screenshots_res/98_HS3ST2_246_inrs_avg.png\n",
      "Renamed ../../results/screenshots/Screenshot 2024-04-29 at 2.46.17 PM.png -> ../../results/screenshots_res/99_IER5_246_inrs_avg.png\n"
     ]
    }
   ],
   "source": [
    "import os\n",
    "\n",
    "images = os.listdir(\"../../results/screenshots/\")\n",
    "images.sort()\n",
    "\n",
    "for i, row in df.iterrows():\n",
    "    if i < start:\n",
    "        continue\n",
    "    if i >= end:\n",
    "        break\n",
    "    id = row['gene_symbol']\n",
    "    \n",
    "    if full_records:\n",
    "        path = f\"{id}_{matter}_inrs\"\n",
    "    else:\n",
    "        path = f\"{id}_{matter}_inr\"\n",
    "        \n",
    "    if avg:\n",
    "        path = f\"{path}_avg\"\n",
    "        \n",
    "    if abagen:\n",
    "        path = f\"{id}_{matter}_abagen\"\n",
    "        \n",
    "    # rename image\n",
    "    out_base = \"../../results/imgs_inrs_avg\"\n",
    "    os.makedirs(out_base, exist_ok=True)\n",
    "    input_path = f\"../../results/screenshots/{images[i]}\"\n",
    "    output_path = f\"{out_base}/{i}_{path}.png\"\n",
    "    os.rename(input_path, output_path)\n",
    "    print(f\"Renamed {input_path} -> {output_path}\")\n"
   ]
  },
  {
   "cell_type": "code",
   "execution_count": null,
   "metadata": {},
   "outputs": [
    {
     "name": "stdout",
     "output_type": "stream",
     "text": [
      "['../../results/imgs_inrs_avg/0_PRKD3_246_inrs_avg.png', '../../results/imgs_inrs_avg/1_PICALM_246_inrs_avg.png', '../../results/imgs_inrs_avg/2_DNAJB4_246_inrs_avg.png', '../../results/imgs_inrs_avg/3_HBP1_246_inrs_avg.png', '../../results/imgs_inrs_avg/4_FBXL7_246_inrs_avg.png', '../../results/imgs_inrs_avg/5_SNX1_246_inrs_avg.png', '../../results/imgs_inrs_avg/5_SNX1_246_abagen.png', '../../results/imgs_inrs_avg/6_FERMT2_246_abagen.png', '../../results/imgs_inrs_avg/6_FERMT2_246_inrs_avg.png', '../../results/imgs_inrs_avg/7_REST_246_abagen.png', '../../results/imgs_inrs_avg/7_REST_246_inrs_avg.png', '../../results/imgs_inrs_avg/8_USP6NL_246_inrs_avg.png', '../../results/imgs_inrs_avg/8_USP6NL_246_abagen.png', '../../results/imgs_inrs_avg/9_APH1B_246_inrs_avg.png', '../../results/imgs_inrs_avg/9_APH1B_246_abagen.png', '../../results/imgs_inrs_avg/10_NEAT1_246_inrs_avg.png', '../../results/imgs_inrs_avg/11_MINDY2_246_inrs_avg.png', '../../results/imgs_inrs_avg/12_APP_246_inrs_avg.png', '../../results/imgs_inrs_avg/13_HSP90AB1_246_inrs_avg.png', '../../results/imgs_inrs_avg/14_RAB10_246_inrs_avg.png', '../../results/imgs_inrs_avg/15_HS3ST5_246_inrs_avg.png', '../../results/imgs_inrs_avg/16_SPP1_246_inrs_avg.png', '../../results/imgs_inrs_avg/17_ANK3_246_inrs_avg.png', '../../results/imgs_inrs_avg/18_SREBF1_246_inrs_avg.png', '../../results/imgs_inrs_avg/19_ZBTB7A_246_inrs_avg.png', '../../results/imgs_inrs_avg/20_SLC44A1_246_inrs_avg.png', '../../results/imgs_inrs_avg/21_FOXF1_246_inrs_avg.png', '../../results/imgs_inrs_avg/22_PLCG2_246_inrs_avg.png', '../../results/imgs_inrs_avg/23_ADAMTS1_246_inrs_avg.png', '../../results/imgs_inrs_avg/24_TPCN1_246_inrs_avg.png', '../../results/imgs_inrs_avg/25_ABCA1_246_inrs_avg.png', '../../results/imgs_inrs_avg/26_HSP90AA1_246_inrs_avg.png', '../../results/imgs_inrs_avg/27_INPP5D_246_inrs_avg.png', '../../results/imgs_inrs_avg/28_GRIN2B_246_inrs_avg.png', '../../results/imgs_inrs_avg/29_LRIG1_246_inrs_avg.png', '../../results/imgs_inrs_avg/30_APOE_246_inrs_avg.png', '../../results/imgs_inrs_avg/31_ZCWPW1_246_inrs_avg.png', '../../results/imgs_inrs_avg/32_TNFRSF1A_246_inrs_avg.png', '../../results/imgs_inrs_avg/33_CASP7_246_inrs_avg.png', '../../results/imgs_inrs_avg/34_TREM2_246_inrs_avg.png', '../../results/imgs_inrs_avg/35_CREB3L4_246_inrs_avg.png', '../../results/imgs_inrs_avg/36_CX3CR1_246_inrs_avg.png', '../../results/imgs_inrs_avg/37_TYROBP_246_inrs_avg.png', '../../results/imgs_inrs_avg/38_CD59_246_inrs_avg.png', '../../results/imgs_inrs_avg/39_GRID2_246_inrs_avg.png', '../../results/imgs_inrs_avg/40_DDIT4_246_inrs_avg.png', '../../results/imgs_inrs_avg/41_ZC3H10_246_inrs_avg.png', '../../results/imgs_inrs_avg/42_BACE1_246_inrs_avg.png', '../../results/imgs_inrs_avg/43_CD33_246_inrs_avg.png', '../../results/imgs_inrs_avg/44_EPDR1_246_inrs_avg.png', '../../results/imgs_inrs_avg/45_PSEN2_246_inrs_avg.png', '../../results/imgs_inrs_avg/46_BIN1_246_inrs_avg.png', '../../results/imgs_inrs_avg/47_ADAM17_246_inrs_avg.png', '../../results/imgs_inrs_avg/48_SHARPIN_246_inrs_avg.png', '../../results/imgs_inrs_avg/49_TOMM40_246_inrs_avg.png', '../../results/imgs_inrs_avg/50_WDR81_246_inrs_avg.png', '../../results/imgs_inrs_avg/51_IL1B_246_inrs_avg.png', '../../results/imgs_inrs_avg/52_TNIP1_246_inrs_avg.png', '../../results/imgs_inrs_avg/53_SPI1_246_inrs_avg.png', '../../results/imgs_inrs_avg/54_ABCA7_246_inrs_avg.png', '../../results/imgs_inrs_avg/55_SERTAD1_246_inrs_avg.png', '../../results/imgs_inrs_avg/56_NYAP1_246_inrs_avg.png', '../../results/imgs_inrs_avg/57_CLU_246_inrs_avg.png', '../../results/imgs_inrs_avg/58_TMEM41A_246_inrs_avg.png', '../../results/imgs_inrs_avg/59_SOD1_246_inrs_avg.png', '../../results/imgs_inrs_avg/60_PILRA_246_inrs_avg.png', '../../results/imgs_inrs_avg/61_COX7C_246_inrs_avg.png', '../../results/imgs_inrs_avg/62_SPDYE3_246_inrs_avg.png', '../../results/imgs_inrs_avg/63_SORT1_246_inrs_avg.png', '../../results/imgs_inrs_avg/64_ATP8B1_246_inrs_avg.png', '../../results/imgs_inrs_avg/65_BDNF_246_inrs_avg.png', '../../results/imgs_inrs_avg/66_IDUA_246_inrs_avg.png', '../../results/imgs_inrs_avg/67_BHLHE40_246_inrs_avg.png', '../../results/imgs_inrs_avg/68_WDR12_246_inrs_avg.png', '../../results/imgs_inrs_avg/69_HSPA1L_246_inrs_avg.png', '../../results/imgs_inrs_avg/70_CEBPB_246_inrs_avg.png', '../../results/imgs_inrs_avg/71_EED_246_inrs_avg.png', '../../results/imgs_inrs_avg/72_BAG2_246_inrs_avg.png', '../../results/imgs_inrs_avg/73_PVR_246_inrs_avg.png', '../../results/imgs_inrs_avg/74_PER1_246_inrs_avg.png', '../../results/imgs_inrs_avg/75_HSPH1_246_inrs_avg.png', '../../results/imgs_inrs_avg/76_PTK2B_246_inrs_avg.png', '../../results/imgs_inrs_avg/77_IL34_246_inrs_avg.png', '../../results/imgs_inrs_avg/78_TSPAN14_246_inrs_avg.png', '../../results/imgs_inrs_avg/79_NCK2_246_inrs_avg.png', '../../results/imgs_inrs_avg/80_JAZF1_246_inrs_avg.png', '../../results/imgs_inrs_avg/81_ZNF184_246_inrs_avg.png', '../../results/imgs_inrs_avg/82_ZBTB11_246_inrs_avg.png', '../../results/imgs_inrs_avg/83_SORL1_246_inrs_avg.png', '../../results/imgs_inrs_avg/84_PLD3_246_inrs_avg.png', '../../results/imgs_inrs_avg/85_DNAJB6_246_inrs_avg.png', '../../results/imgs_inrs_avg/86_SIRPA_246_inrs_avg.png', '../../results/imgs_inrs_avg/87_PRNP_246_inrs_avg.png', '../../results/imgs_inrs_avg/88_EGR1_246_inrs_avg.png', '../../results/imgs_inrs_avg/89_ANKH_246_inrs_avg.png', '../../results/imgs_inrs_avg/90_RORB_246_inrs_avg.png', '../../results/imgs_inrs_avg/91_MAPT_246_inrs_avg.png', '../../results/imgs_inrs_avg/92_DNAJA1_246_inrs_avg.png', '../../results/imgs_inrs_avg/93_MAPK14_246_inrs_avg.png', '../../results/imgs_inrs_avg/94_DOC2A_246_inrs_avg.png', '../../results/imgs_inrs_avg/95_HSPA8_246_inrs_avg.png', '../../results/imgs_inrs_avg/96_DLGAP2_246_inrs_avg.png', '../../results/imgs_inrs_avg/97_TSPOAP1_246_inrs_avg.png', '../../results/imgs_inrs_avg/98_HS3ST2_246_inrs_avg.png', '../../results/imgs_inrs_avg/99_IER5_246_inrs_avg.png']\n"
     ]
    },
    {
     "name": "stderr",
     "output_type": "stream",
     "text": [
      "/tmp/ipykernel_540197/1916986801.py:13: DeprecationWarning: Starting with ImageIO v3 the behavior of this function will switch to that of iio.v3.imread. To keep the current behavior (and make this warning disappear) use `import imageio.v2 as imageio` or call `imageio.v2.imread` directly.\n",
      "  images = [imageio.imread(img) for img in images]\n"
     ]
    }
   ],
   "source": [
    "# generate a gif from the images\n",
    "import imageio\n",
    "\n",
    "out_base = \"../../results/imgs_inrs_avg\"\n",
    "images = os.listdir(out_base)\n",
    "images = sorted(images, key=lambda x: int(x.split(\"/\")[-1].split(\"_\")[0]))\n",
    "images = [f\"{out_base}/{img}\" for img in images]\n",
    "print(images)\n",
    "\n",
    "gif_path = f\"../../results/inrs_avg.gif\"\n",
    "images = [imageio.imread(img) for img in images]\n",
    "imageio.mimsave(gif_path, images, duration=1)\n"
   ]
  }
 ],
 "metadata": {
  "kernelspec": {
   "display_name": "Python 3 (ipykernel)",
   "language": "python",
   "name": "python3"
  },
  "language_info": {
   "codemirror_mode": {
    "name": "ipython",
    "version": 3
   },
   "file_extension": ".py",
   "mimetype": "text/x-python",
   "name": "python",
   "nbconvert_exporter": "python",
   "pygments_lexer": "ipython3",
   "version": "3.10.14"
  },
  "widgets": {
   "application/vnd.jupyter.widget-state+json": {
    "state": {},
    "version_major": 2,
    "version_minor": 0
   }
  }
 },
 "nbformat": 4,
 "nbformat_minor": 4
}

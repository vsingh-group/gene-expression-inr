{
 "cells": [
  {
   "cell_type": "code",
   "execution_count": 2,
   "metadata": {},
   "outputs": [
    {
     "data": {
      "application/vnd.jupyter.widget-view+json": {
       "model_id": "e2eae69fed9743108f12f9d474056372",
       "version_major": 2,
       "version_minor": 1
      },
      "text/plain": [
       "AnyNiivue()"
      ]
     },
     "metadata": {},
     "output_type": "display_data"
    }
   ],
   "source": [
    "from ipyniivue import AnyNiivue, SliceType\n",
    "import pandas as pd\n",
    "from IPython.display import display, clear_output\n",
    "import time\n",
    "\n",
    "matter = \"246\"\n",
    "donor = \"9861\"\n",
    "full_records = True\n",
    "avg = True\n",
    "df = pd.read_csv(f\"../../data/abagendata/train/se_{donor}.csv\")\n",
    "\n",
    "for i, row in df.iterrows():\n",
    "    if i >= 5:\n",
    "        break\n",
    "    id = row['gene_symbol']\n",
    "    path = f\"{id}_{matter}_inr\"\n",
    "    \n",
    "    if full_records:\n",
    "        path = f\"{id}_{matter}_inrs\"\n",
    "        \n",
    "    if avg:\n",
    "        path = f\"{path}_avg\"\n",
    "    \n",
    "\n",
    "    volumes = [\n",
    "        {\n",
    "            \"path\": f\"../../nii_9861/{path}.nii.gz\",\n",
    "            \"colormap\": \"copper2\",\n",
    "        },\n",
    "    ]\n",
    "    nv = AnyNiivue(\n",
    "        back_color=(1, 1, 1, 1),\n",
    "        show_3D_crosshair=True,\n",
    "        is_colorbar=True,\n",
    "    )\n",
    "    nv.load_volumes(volumes)\n",
    "    \n",
    "    clear_output(wait=True)\n",
    "    display(nv)\n",
    "    time.sleep(4)\n"
   ]
  },
  {
   "cell_type": "code",
   "execution_count": null,
   "metadata": {},
   "outputs": [],
   "source": [
    "import os\n",
    "\n",
    "images = os.listdir(\"../../results/screenshots/\")\n",
    "images.sort()\n",
    "\n",
    "for i, row in df.iterrows():\n",
    "    if i >= 5:\n",
    "        break\n",
    "    id = row['gene_symbol']\n",
    "    path = f\"{id}_{matter}_inr\"\n",
    "    \n",
    "    if full_records:\n",
    "        path = f\"{id}_{matter}_inrs\"\n",
    "        \n",
    "    if avg:\n",
    "        path = f\"{path}_avg\"\n",
    "        \n",
    "    # rename image\n",
    "    input_path = f\"../../results/screenshots/{images[i]}\"\n",
    "    output_path = f\"../../results/screenshots/{i}_{path}.png\"\n",
    "    os.rename(input_path, output_path)\n",
    "    print(f\"Renamed {input_path} -> {output_path}\")\n"
   ]
  }
 ],
 "metadata": {
  "kernelspec": {
   "display_name": "Python 3 (ipykernel)",
   "language": "python",
   "name": "python3"
  },
  "language_info": {
   "codemirror_mode": {
    "name": "ipython",
    "version": 3
   },
   "file_extension": ".py",
   "mimetype": "text/x-python",
   "name": "python",
   "nbconvert_exporter": "python",
   "pygments_lexer": "ipython3",
   "version": "3.10.14"
  },
  "widgets": {
   "application/vnd.jupyter.widget-state+json": {
    "state": {},
    "version_major": 2,
    "version_minor": 0
   }
  }
 },
 "nbformat": 4,
 "nbformat_minor": 4
}
